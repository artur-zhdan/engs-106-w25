{
 "cells": [
  {
   "cell_type": "markdown",
   "metadata": {},
   "source": [
    "# Lab Assignment 2: Regression and Classification\n",
    "Please refer to the `README.md` for full laboratory instructions--part of the `README.md` is replicated below for your reference."
   ]
  },
  {
   "cell_type": "markdown",
   "metadata": {
    "id": "467iEJLAQcbK"
   },
   "source": [
    "## Part A: Linear Regression\n",
    "\n",
    "We are given data used in a study of the homicide rate (HOM) in Detroit, over the years 1961-1973. The following data were collected by J.C. Fisher, and used in his paper ”Homicide in Detroit: The Role of Firearms,” Criminology, vol. 14, pp. 387-400, 1976. Each row is for a year, and each column are values of a variable. A picture of the table for your reference immediately follows, but have access to the raw data in this lab.\n",
    "\n",
    "![image](https://peilundai.com/ps2_programming/table.png)\n",
    "\n",
    "* FTP    - Full-time police per 100,000 population\n",
    "* UEMP   - % unemployed in the population\n",
    "* MAN    - number of manufacturing workers in thousands\n",
    "* LIC    - Number of handgun licenses per 100,000 population\n",
    "* GR     - Number of handgun registrations per 100,000 population\n",
    "* NMAN   - Number of non-manufacturing workers in thousands\n",
    "* GOV    - Number of government workers in thousands\n",
    "* HE     - Average hourly earnings\n",
    "* WE     - Average weekly earnings\n",
    "* HOM    - Number of homicides per 100,000 population\n",
    "\n",
    "It turns out that three of the variables together are good predictors of the homicide rate: `FTP`, `WE`, and one more variable.\n",
    "\n",
    "Use methods described in Chapter 3 of the textbook to devise a mathematical formulation to determine the third variable. Implement your formulation and then conduct experiments to determine the third variable. In your report, be sure to provide the step-by-step mathematical formulation (citing Chapter 3 as needed) that corresponds to the implementation you turn in. Also give plots and a rigorous argument to justify the scheme you use and your conclusions."
   ]
  },
  {
   "cell_type": "markdown",
   "metadata": {},
   "source": [
    "### Accessing the Data Set\n",
    "The data is stored in a file called `detroit.npy`. `detroit.npy` has already been loaded into this environment, so you do not need to run this following cell. The command for how you can get data like this is included for your reference and edification.\n",
    "\n",
    "You can find the data under the path:\n",
    "`Assignment2/detroit.npy`."
   ]
  },
  {
   "cell_type": "code",
   "execution_count": 8,
   "metadata": {
    "colab": {
     "base_uri": "https://localhost:8080/"
    },
    "id": "yUfYThlRSDyg",
    "outputId": "a387b46d-7238-4aad-f826-7d67a0a3ec8b",
    "scrolled": true
   },
   "outputs": [],
   "source": [
    "# download data. \n",
    "#!wget https://peilundai.com/ps2_programming/detroit.npy"
   ]
  },
  {
   "cell_type": "markdown",
   "metadata": {},
   "source": [
    "### Write and Run Your Own Code"
   ]
  },
  {
   "cell_type": "code",
   "execution_count": 1,
   "metadata": {},
   "outputs": [],
   "source": [
    "#Library declarations\n",
    "import matplotlib.pyplot as plt\n",
    "import numpy as np"
   ]
  },
  {
   "cell_type": "code",
   "execution_count": 9,
   "metadata": {
    "colab": {
     "base_uri": "https://localhost:8080/"
    },
    "id": "p9bhBKO2SHmp",
    "outputId": "dd6e7741-0326-46a0-839d-f929ec5f85e2"
   },
   "outputs": [
    {
     "name": "stdout",
     "output_type": "stream",
     "text": [
      "(13, 10)\n",
      "[[ 260.35   11.    455.5   178.15  215.98  538.1   133.9     2.98  117.18\n",
      "     8.6 ]\n",
      " [ 269.8     7.    480.2   156.41  180.48  547.6   137.6     3.09  134.02\n",
      "     8.9 ]\n",
      " [ 272.04    5.2   506.1   198.02  209.57  562.8   143.6     3.23  141.68\n",
      "     8.52]\n",
      " [ 272.96    4.3   535.8   222.1   231.67  591.    150.3     3.33  147.98\n",
      "     8.89]\n",
      " [ 272.51    3.5   576.    301.92  297.65  626.1   164.3     3.46  159.85\n",
      "    13.07]\n",
      " [ 261.34    3.2   601.7   391.22  367.62  659.8   179.5     3.6   157.19\n",
      "    14.57]\n",
      " [ 268.89    4.1   577.3   665.56  616.54  686.2   187.5     3.73  155.29\n",
      "    21.36]\n",
      " [ 295.99    3.9   596.9  1131.21 1029.75  699.6   195.4     2.91  131.75\n",
      "    28.03]\n",
      " [ 319.87    3.6   613.5   837.6   786.23  729.9   210.3     4.25  178.74\n",
      "    31.49]\n",
      " [ 341.43    7.1   569.3   794.9   713.77  757.8   223.8     4.47  178.3\n",
      "    37.39]\n",
      " [ 356.59    8.4   548.8   817.74  750.43  755.3   227.7     5.04  209.54\n",
      "    46.26]\n",
      " [ 376.69    7.7   563.4   583.17 1027.38  787.    230.9     5.47  240.05\n",
      "    47.24]\n",
      " [ 390.19    6.3   609.3   709.59  666.5   819.8   230.2     5.76  258.05\n",
      "    52.33]]\n"
     ]
    }
   ],
   "source": [
    "# load data\n",
    "X=np.load('detroit.npy')\n",
    "print(X.shape)\n",
    "print(X)\n",
    "\n",
    "# Note: Least-squares linear regression in Python can be done with the help of np.linalg.lstsq()\n",
    "\n",
    "## PLEASE ADD YOUR CODE HERE"
   ]
  },
  {
   "cell_type": "code",
   "execution_count": 19,
   "metadata": {
    "id": "42_RQfOxS4Cu"
   },
   "outputs": [
    {
     "name": "stdout",
     "output_type": "stream",
     "text": [
      "Feature Index Mapping:\n",
      "0: FTP\n",
      "1: UEMP\n",
      "2: MAN\n",
      "3: LIC\n",
      "4: GR\n",
      "5: NMAN\n",
      "6: GOV\n",
      "7: HE\n",
      "8: WE\n",
      "9: HOM\n",
      "\n",
      "Potential Predictor Indices: [1, 2, 3, 4, 5, 6, 7]\n",
      "\n",
      "Evaluating Candidate Predictors...\n",
      "\n",
      "Feature Evaluated: UEMP (Index 1)\n",
      "Model Coefficients: [-7.98156958e+01  3.76695265e-01 -3.55387663e-02 -6.43074332e-01]\n",
      "\n",
      "Feature Evaluated: MAN (Index 2)\n",
      "Model Coefficients: [-1.09986829e+02  3.60165290e-01 -6.13921018e-02  6.44700813e-02]\n",
      "\n",
      "Feature Evaluated: LIC (Index 3)\n",
      "Model Coefficients: [-5.81244081e+01  1.84691260e-01  1.06849952e-01  1.64636819e-02]\n",
      "\n",
      "Feature Evaluated: GR (Index 4)\n",
      "Model Coefficients: [-5.74412199e+01  2.02762985e-01  7.04621169e-02  1.62152012e-02]\n",
      "\n",
      "Feature Evaluated: NMAN (Index 5)\n",
      "Model Coefficients: [-9.38741400e+01  2.29977228e-01 -5.74717104e-02  8.71595828e-02]\n",
      "\n",
      "Feature Evaluated: GOV (Index 6)\n",
      "Model Coefficients: [-7.38479369e+01  2.04970958e-01 -2.20430680e-02  2.16965508e-01]\n",
      "\n",
      "Feature Evaluated: HE (Index 7)\n",
      "Model Coefficients: [-75.11003345   0.31106152  -0.12617632   6.82966653]\n",
      "\n",
      "\n",
      "---------------------------\n",
      "Optimal Predictor: LIC (Index 3)\n",
      "Minimal MSE: 3.5179\n",
      "Optimal Model Coefficients: [-5.81244081e+01  1.84691260e-01  1.06849952e-01  1.64636819e-02]\n"
     ]
    }
   ],
   "source": [
    "import numpy as np\n",
    "\n",
    "# Load dataset from file\n",
    "dataset = np.load(\"detroit.npy\")\n",
    "\n",
    "# Define column headers\n",
    "features = [\"FTP\", \"UEMP\", \"MAN\", \"LIC\", \"GR\", \"NMAN\", \"GOV\", \"HE\", \"WE\", \"HOM\"]\n",
    "\n",
    "# Display column mapping\n",
    "print(\"Feature Index Mapping:\")\n",
    "for index, name in enumerate(features):\n",
    "    print(f\"{index}: {name}\")\n",
    "\n",
    "# Assign target and fixed predictors\n",
    "target_col = 9\n",
    "fixed_col1 = 0  # FTP\n",
    "fixed_col2 = 8  # WE\n",
    "\n",
    "# Identify candidate predictors (excluding target and fixed predictors)\n",
    "candidate_cols = [i for i in range(len(features)) if i not in {target_col, fixed_col1, fixed_col2}]\n",
    "print(\"\\nPotential Predictor Indices:\", candidate_cols)\n",
    "\n",
    "# Extract dependent variable\n",
    "target_values = dataset[:, target_col]\n",
    "\n",
    "# Initialize tracking for best predictor\n",
    "optimal_mse = float(\"inf\")\n",
    "optimal_r2 = float(\"-inf\")\n",
    "best_predictor = None\n",
    "best_params = None\n",
    "\n",
    "# Iterate over candidate predictors\n",
    "print(\"\\nEvaluating Candidate Predictors...\\n\")\n",
    "for col in candidate_cols:\n",
    "    # Prepare design matrix with intercept, fixed predictors, and candidate feature\n",
    "    intercept = np.ones((dataset.shape[0], 1))  # Intercept column\n",
    "    fixed_feat1 = dataset[:, fixed_col1].reshape(-1, 1)  # Fixed predictor 1\n",
    "    fixed_feat2 = dataset[:, fixed_col2].reshape(-1, 1)  # Fixed predictor 2\n",
    "    candidate_feat = dataset[:, col].reshape(-1, 1)  # Candidate feature\n",
    "\n",
    "    # Stack the selected columns horizontally\n",
    "    X_matrix = np.hstack((intercept, fixed_feat1, fixed_feat2, candidate_feat))\n",
    "\n",
    "    # Compute regression parameters using the Normal Equation\n",
    "    beta_params = np.linalg.inv(X_matrix.T @ X_matrix) @ X_matrix.T @ target_values\n",
    "\n",
    "    # Generate predictions\n",
    "    predictions = X_matrix @ beta_params\n",
    "\n",
    "    # Calculate Mean Squared Error (MSE)\n",
    "    mse_value = np.mean((target_values - predictions) ** 2)\n",
    "\n",
    "    # Output results for current predictor\n",
    "    print(f\"Feature Evaluated: {features[col]} (Index {col})\")\n",
    "    print(f\"Model Coefficients: {beta_params}\\n\")\n",
    "\n",
    "    # Update best predictor if current one performs better\n",
    "    if mse_value < optimal_mse:\n",
    "        optimal_mse = mse_value\n",
    "        best_predictor = col\n",
    "        best_params = beta_params\n",
    "\n",
    "# Display results of the best performing predictor\n",
    "print(\"\\n---------------------------\")\n",
    "print(f\"Optimal Predictor: {features[best_predictor]} (Index {best_predictor})\")\n",
    "print(f\"Minimal MSE: {optimal_mse:.4f}\")\n",
    "print(f\"Optimal Model Coefficients: {best_params}\")\n"
   ]
  },
  {
   "cell_type": "markdown",
   "metadata": {},
   "source": [
    "### What to Submit\n",
    "You should submit a single .pdf file that contains the following:\n",
    "1. A brief post-lab write-up that contains the following for each part of this assignment:\n",
    "\n",
    "    a. Your paper design.\n",
    "    \n",
    "    b. A brief description of your model. Justify your selection of model parameters.\n",
    "    \n",
    "    c. An evaluation of your model, including evidence as appropriate.\n",
    "    \n",
    "    d. A brief (couple of sentences) reflection on your take-aways from this lab exercise."
   ]
  },
  {
   "cell_type": "code",
   "execution_count": null,
   "metadata": {},
   "outputs": [],
   "source": []
  }
 ],
 "metadata": {
  "colab": {
   "provenance": []
  },
  "kernelspec": {
   "display_name": "finetune",
   "language": "python",
   "name": "python3"
  },
  "language_info": {
   "codemirror_mode": {
    "name": "ipython",
    "version": 3
   },
   "file_extension": ".py",
   "mimetype": "text/x-python",
   "name": "python",
   "nbconvert_exporter": "python",
   "pygments_lexer": "ipython3",
   "version": "3.9.18"
  }
 },
 "nbformat": 4,
 "nbformat_minor": 4
}
